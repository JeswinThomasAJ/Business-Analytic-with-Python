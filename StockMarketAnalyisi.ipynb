{
  "nbformat": 4,
  "nbformat_minor": 0,
  "metadata": {
    "colab": {
      "name": "StockMarketAnalyisi.ipynb",
      "provenance": [],
      "collapsed_sections": [],
      "authorship_tag": "ABX9TyPBU4fs8RwM5jX0n0ncFDvE",
      "include_colab_link": true
    },
    "kernelspec": {
      "name": "python3",
      "display_name": "Python 3"
    },
    "language_info": {
      "name": "python"
    }
  },
  "cells": [
    {
      "cell_type": "markdown",
      "metadata": {
        "id": "view-in-github",
        "colab_type": "text"
      },
      "source": [
        "<a href=\"https://colab.research.google.com/github/JeswinThomasAJ/Business-Analytic-with-Python/blob/main/StockMarketAnalyisi.ipynb\" target=\"_parent\"><img src=\"https://colab.research.google.com/assets/colab-badge.svg\" alt=\"Open In Colab\"/></a>"
      ]
    },
    {
      "cell_type": "code",
      "execution_count": 2,
      "metadata": {
        "id": "L4naaKNLfFmw"
      },
      "outputs": [],
      "source": [
        "import matplotlib.pyplot as plt\n",
        "import numpy as np"
      ]
    },
    {
      "cell_type": "code",
      "source": [
        "x=np.array([1,2,3,4,5,6,7,8,9,10,11,12])\n",
        "y=np.array([470.80,539.80,474.25,508.20,491,468.30,472.45,534.30,529.75,496.25,527.65,477])"
      ],
      "metadata": {
        "id": "d5OByYbLj3_b"
      },
      "execution_count": 3,
      "outputs": []
    },
    {
      "cell_type": "code",
      "source": [
        "x1=sum(x)\n",
        "print(x1)"
      ],
      "metadata": {
        "colab": {
          "base_uri": "https://localhost:8080/"
        },
        "id": "RDOUYSn5kyst",
        "outputId": "a2b37cc1-0ef4-4c86-e4b2-85d7479565fc"
      },
      "execution_count": 4,
      "outputs": [
        {
          "output_type": "stream",
          "name": "stdout",
          "text": [
            "78\n"
          ]
        }
      ]
    },
    {
      "cell_type": "code",
      "source": [
        "y1=sum(y)\n",
        "print(y1)"
      ],
      "metadata": {
        "colab": {
          "base_uri": "https://localhost:8080/"
        },
        "id": "yCXpIrXnlDNc",
        "outputId": "50b7f4e6-608f-48dd-cda8-613b1d2f0474"
      },
      "execution_count": 5,
      "outputs": [
        {
          "output_type": "stream",
          "name": "stdout",
          "text": [
            "5989.75\n"
          ]
        }
      ]
    },
    {
      "cell_type": "code",
      "source": [
        "n=np.size(x)\n",
        "print(n)"
      ],
      "metadata": {
        "colab": {
          "base_uri": "https://localhost:8080/"
        },
        "id": "adyAuqeulHON",
        "outputId": "455c1a97-af06-40ab-b799-c04eb4865e5f"
      },
      "execution_count": 6,
      "outputs": [
        {
          "output_type": "stream",
          "name": "stdout",
          "text": [
            "12\n"
          ]
        }
      ]
    },
    {
      "cell_type": "code",
      "source": [
        "x2=np.mean(x)\n",
        "y2=np.mean(y)\n",
        "x2,y2"
      ],
      "metadata": {
        "colab": {
          "base_uri": "https://localhost:8080/"
        },
        "id": "WwzWeA_0lQ9N",
        "outputId": "21b40d37-21d3-4569-d644-a8e919eba691"
      },
      "execution_count": 7,
      "outputs": [
        {
          "output_type": "execute_result",
          "data": {
            "text/plain": [
              "(6.5, 499.1458333333333)"
            ]
          },
          "metadata": {},
          "execution_count": 7
        }
      ]
    },
    {
      "cell_type": "code",
      "source": [
        "num=(n*np.sum(x*y))-(np.sum(x)*np.sum(y))\n",
        "print(num)"
      ],
      "metadata": {
        "colab": {
          "base_uri": "https://localhost:8080/"
        },
        "id": "BTuYQbmSldC4",
        "outputId": "c9d843a6-4d3b-4f38-b3d3-6f552ab4e63d"
      },
      "execution_count": 8,
      "outputs": [
        {
          "output_type": "stream",
          "name": "stdout",
          "text": [
            "2127.899999999965\n"
          ]
        }
      ]
    },
    {
      "cell_type": "code",
      "source": [
        "dec=(n*np.sum(x*x))-(n*np.sum(x)-n*np.sum(x))\n",
        "print(dec)"
      ],
      "metadata": {
        "colab": {
          "base_uri": "https://localhost:8080/"
        },
        "id": "FkFUsf8Om-Y3",
        "outputId": "cbf4ec5e-cb4b-43f7-d413-9e5af15ba40a"
      },
      "execution_count": 9,
      "outputs": [
        {
          "output_type": "stream",
          "name": "stdout",
          "text": [
            "7800\n"
          ]
        }
      ]
    },
    {
      "cell_type": "code",
      "source": [
        "m=num/dec\n",
        "print(m)"
      ],
      "metadata": {
        "colab": {
          "base_uri": "https://localhost:8080/"
        },
        "id": "aKakSghrnWS0",
        "outputId": "8f0b5477-6ce5-4d01-84ca-f7df4251b771"
      },
      "execution_count": 11,
      "outputs": [
        {
          "output_type": "stream",
          "name": "stdout",
          "text": [
            "0.2728076923076878\n"
          ]
        }
      ]
    },
    {
      "cell_type": "code",
      "source": [
        "c=x2*y2\n",
        "print(c)"
      ],
      "metadata": {
        "colab": {
          "base_uri": "https://localhost:8080/"
        },
        "id": "Kli1Kag8oGB2",
        "outputId": "99f29e5a-5257-4101-c3bf-e74050a82dd0"
      },
      "execution_count": 14,
      "outputs": [
        {
          "output_type": "stream",
          "name": "stdout",
          "text": [
            "3244.4479166666665\n"
          ]
        }
      ]
    },
    {
      "cell_type": "code",
      "source": [
        "ynew=m*x+c\n",
        "print(ynew)"
      ],
      "metadata": {
        "colab": {
          "base_uri": "https://localhost:8080/"
        },
        "id": "CEOrvRhXosls",
        "outputId": "358a397b-d93a-4ee7-c33d-061c8ed1ec68"
      },
      "execution_count": 15,
      "outputs": [
        {
          "output_type": "stream",
          "name": "stdout",
          "text": [
            "[3244.72072436 3244.99353205 3245.26633974 3245.53914744 3245.81195513\n",
            " 3246.08476282 3246.35757051 3246.63037821 3246.9031859  3247.17599359\n",
            " 3247.44880128 3247.72160897]\n"
          ]
        }
      ]
    },
    {
      "cell_type": "code",
      "source": [
        "plt.scatter(x,y)\n",
        "plt.plot(x,ynew)\n"
      ],
      "metadata": {
        "colab": {
          "base_uri": "https://localhost:8080/",
          "height": 282
        },
        "id": "kRmH-6f4pNgM",
        "outputId": "7f4ebb16-e91e-4a6f-9943-0ae456194662"
      },
      "execution_count": 19,
      "outputs": [
        {
          "output_type": "execute_result",
          "data": {
            "text/plain": [
              "[<matplotlib.lines.Line2D at 0x7f1ae7b44ed0>]"
            ]
          },
          "metadata": {},
          "execution_count": 19
        },
        {
          "output_type": "display_data",
          "data": {
            "text/plain": [
              "<Figure size 432x288 with 1 Axes>"
            ],
            "image/png": "[encoded data removed]"
          },
          "metadata": {
            "needs_background": "light"
          }
        }
      ]
    },
    {
      "cell_type": "code",
      "source": [
        ""
      ],
      "metadata": {
        "id": "TzqAdoJyu56a"
      },
      "execution_count": null,
      "outputs": []
    }
  ]
}