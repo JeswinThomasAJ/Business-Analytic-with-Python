{
  "nbformat": 4,
  "nbformat_minor": 0,
  "metadata": {
    "colab": {
      "name": "DecisionTreeregressor.ipynb",
      "provenance": [],
      "authorship_tag": "ABX9TyMM88v0Sawc6JnyrneJvAnN",
      "include_colab_link": true
    },
    "kernelspec": {
      "name": "python3",
      "display_name": "Python 3"
    },
    "language_info": {
      "name": "python"
    }
  },
  "cells": [
    {
      "cell_type": "markdown",
      "metadata": {
        "id": "view-in-github",
        "colab_type": "text"
      },
      "source": [
        "<a href=\"https://colab.research.google.com/github/JeswinThomasAJ/Business-Analytic-with-Python/blob/main/DecisionTreeregressor.ipynb\" target=\"_parent\"><img src=\"https://colab.research.google.com/assets/colab-badge.svg\" alt=\"Open In Colab\"/></a>"
      ]
    },
    {
      "cell_type": "code",
      "source": [
        "import pandas as pd\n",
        "import numpy as np\n",
        "import matplotlib.pyplot as plt\n"
      ],
      "metadata": {
        "id": "3DeM48Lu_o31"
      },
      "execution_count": 4,
      "outputs": []
    },
    {
      "cell_type": "code",
      "source": [
        "dataset = pd.read_csv(\"BOSCHLTD.NS.csv\")\n"
      ],
      "metadata": {
        "id": "7TFxQPxiAE6_"
      },
      "execution_count": 12,
      "outputs": []
    },
    {
      "cell_type": "code",
      "source": [
        "x=dataset.iloc[:,:-1].values\n",
        "y=dataset.iloc[:,-1].values"
      ],
      "metadata": {
        "id": "qOUQE9gGC-fV"
      },
      "execution_count": 14,
      "outputs": []
    },
    {
      "cell_type": "code",
      "source": [
        "y = y.reshape(len(y),1)"
      ],
      "metadata": {
        "id": "60-jKMUGEqQa"
      },
      "execution_count": 28,
      "outputs": []
    },
    {
      "cell_type": "code",
      "source": [
        "x"
      ],
      "metadata": {
        "colab": {
          "base_uri": "https://localhost:8080/"
        },
        "id": "WrELEC3RDRou",
        "outputId": "d4207004-ffde-4a93-e1b2-ef6a791a7152"
      },
      "execution_count": 29,
      "outputs": [
        {
          "output_type": "execute_result",
          "data": {
            "text/plain": [
              "array([[  1.],\n",
              "       [  2.],\n",
              "       [  3.],\n",
              "       [  4.],\n",
              "       [  5.],\n",
              "       [  6.],\n",
              "       [  7.],\n",
              "       [  8.],\n",
              "       [  9.],\n",
              "       [ 10.],\n",
              "       [ 11.],\n",
              "       [ 12.],\n",
              "       [ 13.],\n",
              "       [ 14.],\n",
              "       [ 15.],\n",
              "       [ 16.],\n",
              "       [ 17.],\n",
              "       [ 18.],\n",
              "       [ 19.],\n",
              "       [ 20.],\n",
              "       [ 21.],\n",
              "       [ 22.],\n",
              "       [ 23.],\n",
              "       [ 24.],\n",
              "       [ 25.],\n",
              "       [ 26.],\n",
              "       [ 27.],\n",
              "       [ 28.],\n",
              "       [ 29.],\n",
              "       [ 30.],\n",
              "       [ 31.],\n",
              "       [ 32.],\n",
              "       [ 33.],\n",
              "       [ 34.],\n",
              "       [ 35.],\n",
              "       [ 36.],\n",
              "       [ 37.],\n",
              "       [ 38.],\n",
              "       [ 39.],\n",
              "       [ 40.],\n",
              "       [ 41.],\n",
              "       [ 42.],\n",
              "       [ 43.],\n",
              "       [ 44.],\n",
              "       [ 45.],\n",
              "       [ 46.],\n",
              "       [ 47.],\n",
              "       [ 48.],\n",
              "       [ 49.],\n",
              "       [ 50.],\n",
              "       [ 51.],\n",
              "       [ 52.],\n",
              "       [ 53.],\n",
              "       [ 54.],\n",
              "       [ 55.],\n",
              "       [ 56.],\n",
              "       [ 57.],\n",
              "       [ 58.],\n",
              "       [ 59.],\n",
              "       [ 60.],\n",
              "       [ 61.],\n",
              "       [ 62.],\n",
              "       [ 63.],\n",
              "       [ 64.],\n",
              "       [ 65.],\n",
              "       [ 66.],\n",
              "       [ 67.],\n",
              "       [ 68.],\n",
              "       [ 69.],\n",
              "       [ 70.],\n",
              "       [ 71.],\n",
              "       [ 72.],\n",
              "       [ 73.],\n",
              "       [ 74.],\n",
              "       [ 75.],\n",
              "       [ 76.],\n",
              "       [ 77.],\n",
              "       [ 78.],\n",
              "       [ 79.],\n",
              "       [ 80.],\n",
              "       [ 81.],\n",
              "       [ 82.],\n",
              "       [ 83.],\n",
              "       [ 84.],\n",
              "       [ 85.],\n",
              "       [ 86.],\n",
              "       [ 87.],\n",
              "       [ 88.],\n",
              "       [ 89.],\n",
              "       [ 90.],\n",
              "       [ 91.],\n",
              "       [ 92.],\n",
              "       [ 93.],\n",
              "       [ 94.],\n",
              "       [ 95.],\n",
              "       [ 96.],\n",
              "       [ 97.],\n",
              "       [ 98.],\n",
              "       [ 99.],\n",
              "       [100.],\n",
              "       [101.],\n",
              "       [102.],\n",
              "       [103.],\n",
              "       [104.],\n",
              "       [105.],\n",
              "       [106.],\n",
              "       [107.],\n",
              "       [108.],\n",
              "       [109.],\n",
              "       [110.],\n",
              "       [111.],\n",
              "       [112.],\n",
              "       [113.],\n",
              "       [114.],\n",
              "       [115.],\n",
              "       [116.],\n",
              "       [117.],\n",
              "       [118.],\n",
              "       [119.],\n",
              "       [120.],\n",
              "       [121.],\n",
              "       [122.],\n",
              "       [123.],\n",
              "       [124.],\n",
              "       [125.],\n",
              "       [126.],\n",
              "       [127.],\n",
              "       [128.],\n",
              "       [129.],\n",
              "       [130.],\n",
              "       [131.],\n",
              "       [132.],\n",
              "       [133.],\n",
              "       [134.],\n",
              "       [135.],\n",
              "       [136.],\n",
              "       [137.],\n",
              "       [138.],\n",
              "       [139.],\n",
              "       [140.],\n",
              "       [141.],\n",
              "       [142.],\n",
              "       [143.],\n",
              "       [144.],\n",
              "       [145.],\n",
              "       [146.],\n",
              "       [147.],\n",
              "       [148.],\n",
              "       [149.],\n",
              "       [150.],\n",
              "       [151.],\n",
              "       [152.],\n",
              "       [153.],\n",
              "       [154.],\n",
              "       [155.],\n",
              "       [156.],\n",
              "       [157.],\n",
              "       [158.],\n",
              "       [159.],\n",
              "       [160.],\n",
              "       [161.],\n",
              "       [162.],\n",
              "       [163.],\n",
              "       [164.],\n",
              "       [165.],\n",
              "       [166.],\n",
              "       [167.],\n",
              "       [168.],\n",
              "       [169.],\n",
              "       [170.],\n",
              "       [171.],\n",
              "       [172.],\n",
              "       [173.],\n",
              "       [174.],\n",
              "       [175.],\n",
              "       [176.],\n",
              "       [177.],\n",
              "       [178.],\n",
              "       [179.],\n",
              "       [180.],\n",
              "       [181.],\n",
              "       [182.],\n",
              "       [183.],\n",
              "       [184.],\n",
              "       [185.],\n",
              "       [186.],\n",
              "       [187.],\n",
              "       [188.],\n",
              "       [189.],\n",
              "       [190.],\n",
              "       [191.],\n",
              "       [192.],\n",
              "       [193.],\n",
              "       [194.],\n",
              "       [195.],\n",
              "       [196.],\n",
              "       [197.],\n",
              "       [198.],\n",
              "       [199.],\n",
              "       [200.],\n",
              "       [201.],\n",
              "       [202.],\n",
              "       [203.],\n",
              "       [204.],\n",
              "       [205.],\n",
              "       [206.],\n",
              "       [207.],\n",
              "       [208.],\n",
              "       [209.],\n",
              "       [210.],\n",
              "       [211.],\n",
              "       [212.],\n",
              "       [213.],\n",
              "       [214.],\n",
              "       [215.],\n",
              "       [216.],\n",
              "       [217.],\n",
              "       [218.],\n",
              "       [219.],\n",
              "       [220.],\n",
              "       [221.],\n",
              "       [222.],\n",
              "       [223.],\n",
              "       [224.],\n",
              "       [225.],\n",
              "       [226.],\n",
              "       [227.],\n",
              "       [228.],\n",
              "       [229.],\n",
              "       [230.],\n",
              "       [231.],\n",
              "       [232.],\n",
              "       [233.],\n",
              "       [234.],\n",
              "       [235.],\n",
              "       [236.],\n",
              "       [237.],\n",
              "       [238.],\n",
              "       [239.],\n",
              "       [240.],\n",
              "       [241.],\n",
              "       [242.],\n",
              "       [243.],\n",
              "       [244.],\n",
              "       [245.],\n",
              "       [246.],\n",
              "       [247.],\n",
              "       [248.],\n",
              "       [249.]])"
            ]
          },
          "metadata": {},
          "execution_count": 29
        }
      ]
    },
    {
      "cell_type": "code",
      "source": [
        "y"
      ],
      "metadata": {
        "colab": {
          "base_uri": "https://localhost:8080/"
        },
        "id": "qWF58zfuDViF",
        "outputId": "21e81b6a-3f81-4492-df9f-68f96a1bcfc4"
      },
      "execution_count": 30,
      "outputs": [
        {
          "output_type": "execute_result",
          "data": {
            "text/plain": [
              "array([[14450.     ],\n",
              "       [14210.09961],\n",
              "       [14068.40039],\n",
              "       [13950.     ],\n",
              "       [13749.9502 ],\n",
              "       [13650.     ],\n",
              "       [13890.     ],\n",
              "       [13865.75   ],\n",
              "       [13660.04981],\n",
              "       [13689.9502 ],\n",
              "       [13853.65039],\n",
              "       [13899.     ],\n",
              "       [14045.     ],\n",
              "       [14149.65039],\n",
              "       [14400.     ],\n",
              "       [14325.     ],\n",
              "       [14429.     ],\n",
              "       [14200.     ],\n",
              "       [14417.9502 ],\n",
              "       [14585.     ],\n",
              "       [14569.     ],\n",
              "       [14661.29981],\n",
              "       [15387.     ],\n",
              "       [15060.25   ],\n",
              "       [15120.     ],\n",
              "       [15173.90039],\n",
              "       [15342.     ],\n",
              "       [15400.     ],\n",
              "       [15350.     ],\n",
              "       [15845.79981],\n",
              "       [15650.     ],\n",
              "       [15638.2002 ],\n",
              "       [15426.59961],\n",
              "       [15565.     ],\n",
              "       [15500.     ],\n",
              "       [15545.     ],\n",
              "       [17300.     ],\n",
              "       [17481.44922],\n",
              "       [17765.     ],\n",
              "       [17789.5    ],\n",
              "       [18199.     ],\n",
              "       [18070.     ],\n",
              "       [17999.75   ],\n",
              "       [17740.     ],\n",
              "       [17260.     ],\n",
              "       [17140.     ],\n",
              "       [17155.     ],\n",
              "       [17000.     ],\n",
              "       [16692.     ],\n",
              "       [17100.     ],\n",
              "       [16919.90039],\n",
              "       [16720.     ],\n",
              "       [17037.05078],\n",
              "       [17575.     ],\n",
              "       [17829.     ],\n",
              "       [17800.     ],\n",
              "       [17787.     ],\n",
              "       [18350.     ],\n",
              "       [18500.     ],\n",
              "       [18699.94922],\n",
              "       [18344.5    ],\n",
              "       [18565.75   ],\n",
              "       [18250.     ],\n",
              "       [18617.44922],\n",
              "       [18705.     ],\n",
              "       [17800.     ],\n",
              "       [16963.30078],\n",
              "       [17394.     ],\n",
              "       [17058.30078],\n",
              "       [16750.     ],\n",
              "       [16101.     ],\n",
              "       [16200.     ],\n",
              "       [16200.     ],\n",
              "       [16308.     ],\n",
              "       [16682.80078],\n",
              "       [16495.     ],\n",
              "       [16280.     ],\n",
              "       [16333.     ],\n",
              "       [16798.90039],\n",
              "       [16690.     ],\n",
              "       [16884.84961],\n",
              "       [16773.84961],\n",
              "       [16850.     ],\n",
              "       [16786.80078],\n",
              "       [16500.     ],\n",
              "       [16055.     ],\n",
              "       [15655.     ],\n",
              "       [16298.34961],\n",
              "       [16576.25   ],\n",
              "       [16800.     ],\n",
              "       [16481.     ],\n",
              "       [16679.5    ],\n",
              "       [16773.80078],\n",
              "       [16799.90039],\n",
              "       [16890.     ],\n",
              "       [17320.25   ],\n",
              "       [17419.     ],\n",
              "       [17220.     ],\n",
              "       [17435.     ],\n",
              "       [17308.     ],\n",
              "       [17150.     ],\n",
              "       [17420.     ],\n",
              "       [17390.     ],\n",
              "       [17364.94922],\n",
              "       [17350.     ],\n",
              "       [17630.     ],\n",
              "       [17849.5    ],\n",
              "       [17240.     ],\n",
              "       [17000.     ],\n",
              "       [16515.     ],\n",
              "       [16470.75   ],\n",
              "       [16040.     ],\n",
              "       [16100.     ],\n",
              "       [16290.     ],\n",
              "       [16480.     ],\n",
              "       [16725.     ],\n",
              "       [16890.     ],\n",
              "       [16690.     ],\n",
              "       [16618.69922],\n",
              "       [16415.59961],\n",
              "       [16118.54981],\n",
              "       [16170.75   ],\n",
              "       [16320.09961],\n",
              "       [16398.     ],\n",
              "       [15999.     ],\n",
              "       [15824.     ],\n",
              "       [16270.     ],\n",
              "       [16060.65039],\n",
              "       [15950.     ],\n",
              "       [15850.     ],\n",
              "       [15580.     ],\n",
              "       [15970.     ],\n",
              "       [15500.     ],\n",
              "       [15317.     ],\n",
              "       [15250.     ],\n",
              "       [15492.09961],\n",
              "       [15642.90039],\n",
              "       [15175.     ],\n",
              "       [14500.     ],\n",
              "       [14165.9502 ],\n",
              "       [14700.     ],\n",
              "       [14550.     ],\n",
              "       [14324.     ],\n",
              "       [14225.     ],\n",
              "       [14058.     ],\n",
              "       [14100.     ],\n",
              "       [14257.90039],\n",
              "       [14620.     ],\n",
              "       [14299.     ],\n",
              "       [14400.     ],\n",
              "       [14138.     ],\n",
              "       [14200.09961],\n",
              "       [14100.     ],\n",
              "       [14030.     ],\n",
              "       [14250.     ],\n",
              "       [14480.     ],\n",
              "       [14420.     ],\n",
              "       [14615.     ],\n",
              "       [14970.     ],\n",
              "       [14894.7002 ],\n",
              "       [14990.     ],\n",
              "       [15000.     ],\n",
              "       [15140.     ],\n",
              "       [14904.     ],\n",
              "       [14659.9502 ],\n",
              "       [14524.40039],\n",
              "       [14600.     ],\n",
              "       [14288.     ],\n",
              "       [14483.     ],\n",
              "       [14590.     ],\n",
              "       [14452.     ],\n",
              "       [14252.5    ],\n",
              "       [14465.     ],\n",
              "       [14386.7002 ],\n",
              "       [14450.     ],\n",
              "       [14420.     ],\n",
              "       [14560.     ],\n",
              "       [14280.     ],\n",
              "       [14000.     ],\n",
              "       [13791.7002 ],\n",
              "       [13612.79981],\n",
              "       [13637.7002 ],\n",
              "       [13311.     ],\n",
              "       [13200.     ],\n",
              "       [13300.     ],\n",
              "       [13350.     ],\n",
              "       [13620.     ],\n",
              "       [13765.     ],\n",
              "       [13707.     ],\n",
              "       [14310.5    ],\n",
              "       [14161.     ],\n",
              "       [14045.     ],\n",
              "       [13900.2002 ],\n",
              "       [14049.9502 ],\n",
              "       [14290.     ],\n",
              "       [14454.9502 ],\n",
              "       [14680.     ],\n",
              "       [14537.25   ],\n",
              "       [14849.     ],\n",
              "       [14347.29981],\n",
              "       [14301.     ],\n",
              "       [14270.     ],\n",
              "       [14080.40039],\n",
              "       [14225.     ],\n",
              "       [14081.     ],\n",
              "       [13830.     ],\n",
              "       [13824.     ],\n",
              "       [14080.     ],\n",
              "       [13569.75   ],\n",
              "       [13400.     ],\n",
              "       [13345.     ],\n",
              "       [13650.     ],\n",
              "       [13500.     ],\n",
              "       [13900.     ],\n",
              "       [14474.90039],\n",
              "       [14550.     ],\n",
              "       [14614.     ],\n",
              "       [15520.     ],\n",
              "       [15273.     ],\n",
              "       [15660.     ],\n",
              "       [15940.     ],\n",
              "       [15647.     ],\n",
              "       [16115.     ],\n",
              "       [16140.     ],\n",
              "       [16100.     ],\n",
              "       [16554.94922],\n",
              "       [16515.     ],\n",
              "       [16240.     ],\n",
              "       [16009.2002 ],\n",
              "       [16499.     ],\n",
              "       [16366.2002 ],\n",
              "       [16500.     ],\n",
              "       [16480.     ],\n",
              "       [16450.     ],\n",
              "       [16828.30078],\n",
              "       [16598.     ],\n",
              "       [16470.     ],\n",
              "       [16461.     ],\n",
              "       [16789.     ],\n",
              "       [17200.     ],\n",
              "       [17617.90039],\n",
              "       [18188.94922],\n",
              "       [17500.     ],\n",
              "       [17599.     ],\n",
              "       [17300.     ],\n",
              "       [17350.     ],\n",
              "       [17450.     ],\n",
              "       [17420.     ],\n",
              "       [17310.     ]])"
            ]
          },
          "metadata": {},
          "execution_count": 30
        }
      ]
    },
    {
      "cell_type": "code",
      "source": [
        "\n",
        "from sklearn.tree import DecisionTreeRegressor\n",
        "regressor= DecisionTreeRegressor(random_state=0)\n",
        "regressor.fit(x,y)"
      ],
      "metadata": {
        "colab": {
          "base_uri": "https://localhost:8080/"
        },
        "id": "2kblGHxiCVvG",
        "outputId": "fc3e3beb-6e38-4638-c36a-4be758efdc00"
      },
      "execution_count": 31,
      "outputs": [
        {
          "output_type": "execute_result",
          "data": {
            "text/plain": [
              "DecisionTreeRegressor(random_state=0)"
            ]
          },
          "metadata": {},
          "execution_count": 31
        }
      ]
    },
    {
      "cell_type": "code",
      "source": [
        "y_pred=regressor.predict(x)"
      ],
      "metadata": {
        "id": "MyK7xqDBDYpP"
      },
      "execution_count": 32,
      "outputs": []
    },
    {
      "cell_type": "code",
      "source": [
        "y_pred"
      ],
      "metadata": {
        "colab": {
          "base_uri": "https://localhost:8080/"
        },
        "id": "YLyG9dKTDok-",
        "outputId": "7a015cf2-835d-40be-8a37-e2d6795b2c01"
      },
      "execution_count": 33,
      "outputs": [
        {
          "output_type": "execute_result",
          "data": {
            "text/plain": [
              "array([14450.     , 14210.09961, 14068.40039, 13950.     , 13749.9502 ,\n",
              "       13650.     , 13890.     , 13865.75   , 13660.04981, 13689.9502 ,\n",
              "       13853.65039, 13899.     , 14045.     , 14149.65039, 14400.     ,\n",
              "       14325.     , 14429.     , 14200.     , 14417.9502 , 14585.     ,\n",
              "       14569.     , 14661.29981, 15387.     , 15060.25   , 15120.     ,\n",
              "       15173.90039, 15342.     , 15400.     , 15350.     , 15845.79981,\n",
              "       15650.     , 15638.2002 , 15426.59961, 15565.     , 15500.     ,\n",
              "       15545.     , 17300.     , 17481.44922, 17765.     , 17789.5    ,\n",
              "       18199.     , 18070.     , 17999.75   , 17740.     , 17260.     ,\n",
              "       17140.     , 17155.     , 17000.     , 16692.     , 17100.     ,\n",
              "       16919.90039, 16720.     , 17037.05078, 17575.     , 17829.     ,\n",
              "       17800.     , 17787.     , 18350.     , 18500.     , 18699.94922,\n",
              "       18344.5    , 18565.75   , 18250.     , 18617.44922, 18705.     ,\n",
              "       17800.     , 16963.30078, 17394.     , 17058.30078, 16750.     ,\n",
              "       16101.     , 16200.     , 16200.     , 16308.     , 16682.80078,\n",
              "       16495.     , 16280.     , 16333.     , 16798.90039, 16690.     ,\n",
              "       16884.84961, 16773.84961, 16850.     , 16786.80078, 16500.     ,\n",
              "       16055.     , 15655.     , 16298.34961, 16576.25   , 16800.     ,\n",
              "       16481.     , 16679.5    , 16773.80078, 16799.90039, 16890.     ,\n",
              "       17320.25   , 17419.     , 17220.     , 17435.     , 17308.     ,\n",
              "       17150.     , 17420.     , 17390.     , 17364.94922, 17350.     ,\n",
              "       17630.     , 17849.5    , 17240.     , 17000.     , 16515.     ,\n",
              "       16470.75   , 16040.     , 16100.     , 16290.     , 16480.     ,\n",
              "       16725.     , 16890.     , 16690.     , 16618.69922, 16415.59961,\n",
              "       16118.54981, 16170.75   , 16320.09961, 16398.     , 15999.     ,\n",
              "       15824.     , 16270.     , 16060.65039, 15950.     , 15850.     ,\n",
              "       15580.     , 15970.     , 15500.     , 15317.     , 15250.     ,\n",
              "       15492.09961, 15642.90039, 15175.     , 14500.     , 14165.9502 ,\n",
              "       14700.     , 14550.     , 14324.     , 14225.     , 14058.     ,\n",
              "       14100.     , 14257.90039, 14620.     , 14299.     , 14400.     ,\n",
              "       14138.     , 14200.09961, 14100.     , 14030.     , 14250.     ,\n",
              "       14480.     , 14420.     , 14615.     , 14970.     , 14894.7002 ,\n",
              "       14990.     , 15000.     , 15140.     , 14904.     , 14659.9502 ,\n",
              "       14524.40039, 14600.     , 14288.     , 14483.     , 14590.     ,\n",
              "       14452.     , 14252.5    , 14465.     , 14386.7002 , 14450.     ,\n",
              "       14420.     , 14560.     , 14280.     , 14000.     , 13791.7002 ,\n",
              "       13612.79981, 13637.7002 , 13311.     , 13200.     , 13300.     ,\n",
              "       13350.     , 13620.     , 13765.     , 13707.     , 14310.5    ,\n",
              "       14161.     , 14045.     , 13900.2002 , 14049.9502 , 14290.     ,\n",
              "       14454.9502 , 14680.     , 14537.25   , 14849.     , 14347.29981,\n",
              "       14301.     , 14270.     , 14080.40039, 14225.     , 14081.     ,\n",
              "       13830.     , 13824.     , 14080.     , 13569.75   , 13400.     ,\n",
              "       13345.     , 13650.     , 13500.     , 13900.     , 14474.90039,\n",
              "       14550.     , 14614.     , 15520.     , 15273.     , 15660.     ,\n",
              "       15940.     , 15647.     , 16115.     , 16140.     , 16100.     ,\n",
              "       16554.94922, 16515.     , 16240.     , 16009.2002 , 16499.     ,\n",
              "       16366.2002 , 16500.     , 16480.     , 16450.     , 16828.30078,\n",
              "       16598.     , 16470.     , 16461.     , 16789.     , 17200.     ,\n",
              "       17617.90039, 18188.94922, 17500.     , 17599.     , 17300.     ,\n",
              "       17350.     , 17450.     , 17420.     , 17310.     ])"
            ]
          },
          "metadata": {},
          "execution_count": 33
        }
      ]
    },
    {
      "cell_type": "code",
      "source": [
        "plt.scatter(x,y,color=\"red\")\n",
        "plt.plot(x,y_pred,color=\"blue\")"
      ],
      "metadata": {
        "colab": {
          "base_uri": "https://localhost:8080/",
          "height": 283
        },
        "id": "AgpQ7KxzDqSd",
        "outputId": "6645d1fc-9626-4c56-9980-2973f01651ac"
      },
      "execution_count": 34,
      "outputs": [
        {
          "output_type": "execute_result",
          "data": {
            "text/plain": [
              "[<matplotlib.lines.Line2D at 0x7f5063af3b90>]"
            ]
          },
          "metadata": {},
          "execution_count": 34
        },
        {
          "output_type": "display_data",
          "data": {
            "text/plain": [
              "<Figure size 432x288 with 1 Axes>"
            ],
            "image/png": "[encoded data removed]"
          },
          "metadata": {
            "needs_background": "light"
          }
        }
      ]
    },
    {
      "cell_type": "code",
      "source": [
        "from sklearn.svm import SVR\n",
        "regressor=SVR()\n",
        "regressor.fit(x,y)"
      ],
      "metadata": {
        "colab": {
          "base_uri": "https://localhost:8080/"
        },
        "id": "gawbFkwDD79o",
        "outputId": "23c824fb-49c5-4ae8-df75-26736b5d0a5c"
      },
      "execution_count": 35,
      "outputs": [
        {
          "output_type": "stream",
          "name": "stderr",
          "text": [
            "/usr/local/lib/python3.7/dist-packages/sklearn/utils/validation.py:993: DataConversionWarning: A column-vector y was passed when a 1d array was expected. Please change the shape of y to (n_samples, ), for example using ravel().\n",
            "  y = column_or_1d(y, warn=True)\n"
          ]
        },
        {
          "output_type": "execute_result",
          "data": {
            "text/plain": [
              "SVR()"
            ]
          },
          "metadata": {},
          "execution_count": 35
        }
      ]
    },
    {
      "cell_type": "code",
      "source": [
        "y_pred=regressor.predict(x)"
      ],
      "metadata": {
        "id": "syiFexUAEUd8"
      },
      "execution_count": 36,
      "outputs": []
    },
    {
      "cell_type": "code",
      "source": [
        "y_pred"
      ],
      "metadata": {
        "colab": {
          "base_uri": "https://localhost:8080/"
        },
        "id": "zDw22oViEb7Y",
        "outputId": "b50e6345-4d46-4a84-ad74-e56b42a207fb"
      },
      "execution_count": 37,
      "outputs": [
        {
          "output_type": "execute_result",
          "data": {
            "text/plain": [
              "array([15668.50056821, 15669.00545004, 15669.52742584, 15670.06635511,\n",
              "       15670.62207109, 15671.19438043, 15671.78306298, 15672.38787153,\n",
              "       15673.00853166, 15673.64474161, 15674.2961722 , 15674.96246678,\n",
              "       15675.64324129, 15676.33808427, 15677.046557  , 15677.76819366,\n",
              "       15678.50250152, 15679.24896123, 15680.00702711, 15680.77612753,\n",
              "       15681.55566528, 15682.34501808, 15683.14353905, 15683.95055728,\n",
              "       15684.76537847, 15685.58728552, 15686.41553929, 15687.24937931,\n",
              "       15688.08802461, 15688.93067451, 15689.77650956, 15690.62469239,\n",
              "       15691.47436875, 15692.32466847, 15693.17470651, 15694.02358402,\n",
              "       15694.87038949, 15695.71419986, 15696.55408172, 15697.38909249,\n",
              "       15698.21828167, 15699.04069209, 15699.85536121, 15700.66132238,\n",
              "       15701.45760619, 15702.24324183, 15703.01725838, 15703.77868622,\n",
              "       15704.5265584 , 15705.25991201, 15705.97778956, 15706.67924041,\n",
              "       15707.3633221 , 15708.0291018 , 15708.67565767, 15709.30208021,\n",
              "       15709.90747369, 15710.49095746, 15711.05166734, 15711.58875689,\n",
              "       15712.10139879, 15712.5887861 , 15713.05013353, 15713.4846787 ,\n",
              "       15713.89168336, 15714.27043455, 15714.62024582, 15714.94045832,\n",
              "       15715.23044191, 15715.4895962 , 15715.71735161, 15715.9131703 ,\n",
              "       15716.07654718, 15716.20701073, 15716.30412393, 15716.367485  ,\n",
              "       15716.39672822, 15716.3915246 , 15716.35158257, 15716.27664857,\n",
              "       15716.16650763, 15716.02098389, 15715.839941  , 15715.6232826 ,\n",
              "       15715.37095259, 15715.08293545, 15714.7592565 , 15714.39998203,\n",
              "       15714.00521944, 15713.5751173 , 15713.10986536, 15712.60969448,\n",
              "       15712.07487653, 15711.50572422, 15710.90259085, 15710.26587006,\n",
              "       15709.59599547, 15708.89344026, 15708.15871675, 15707.39237586,\n",
              "       15706.59500657, 15705.76723525, 15704.90972505, 15704.02317512,\n",
              "       15703.10831983, 15702.16592798, 15701.19680188, 15700.20177644,\n",
              "       15699.18171818, 15698.1375242 , 15697.07012114, 15695.98046404,\n",
              "       15694.86953521, 15693.73834301, 15692.58792063, 15691.41932482,\n",
              "       15690.2336346 , 15689.03194991, 15687.81539022, 15686.58509317,\n",
              "       15685.34221311, 15684.0879197 , 15682.82339635, 15681.5498388 ,\n",
              "       15680.26845358, 15678.98045648, 15677.68707097, 15676.38952669,\n",
              "       15675.08905787, 15673.78690171, 15672.48429685, 15671.18248176,\n",
              "       15669.88269313, 15668.58616433, 15667.2941238 , 15666.00779348,\n",
              "       15664.72838721, 15663.45710924, 15662.19515264, 15660.94369776,\n",
              "       15659.70391075, 15658.47694208, 15657.26392502, 15656.06597425,\n",
              "       15654.88418441, 15653.71962874, 15652.57335772, 15651.4463977 ,\n",
              "       15650.33974969, 15649.25438807, 15648.19125937, 15647.15128114,\n",
              "       15646.13534077, 15645.14429448, 15644.17896623, 15643.24014676,\n",
              "       15642.32859266, 15641.44502548, 15640.59013088, 15639.7645579 ,\n",
              "       15638.96891821, 15638.20378544, 15637.46969459, 15636.76714147,\n",
              "       15636.09658223, 15635.45843291, 15634.8530691 , 15634.2808256 ,\n",
              "       15633.74199621, 15633.23683352, 15632.76554882, 15632.328312  ,\n",
              "       15631.92525161, 15631.55645489, 15631.22196791, 15630.92179576,\n",
              "       15630.65590283, 15630.42421307, 15630.22661041, 15630.0629392 ,\n",
              "       15629.93300467, 15629.83657347, 15629.77337436, 15629.74309876,\n",
              "       15629.74540154, 15629.77990179, 15629.84618359, 15629.94379693,\n",
              "       15630.0722586 , 15630.23105316, 15630.41963395, 15630.63742415,\n",
              "       15630.88381784, 15631.15818117, 15631.45985348, 15631.78814853,\n",
              "       15632.14235574, 15632.5217414 , 15632.92554999, 15633.35300551,\n",
              "       15633.80331277, 15634.27565874, 15634.76921396, 15635.2831339 ,\n",
              "       15635.81656034, 15636.36862279, 15636.93843987, 15637.52512079,\n",
              "       15638.12776667, 15638.74547204, 15639.37732618, 15640.02241458,\n",
              "       15640.67982028, 15641.34862527, 15642.02791189, 15642.71676411,\n",
              "       15643.41426895, 15644.11951768, 15644.83160723, 15645.54964134,\n",
              "       15646.27273186, 15646.99999993, 15647.73057716, 15648.46360675,\n",
              "       15649.19824461, 15649.93366041, 15650.66903861, 15651.40357946,\n",
              "       15652.13649992, 15652.86703457, 15653.59443646, 15654.31797795,\n",
              "       15655.0369514 , 15655.75067   , 15656.45846832, 15657.159703  ,\n",
              "       15657.85375332, 15658.54002169, 15659.21793413, 15659.88694071,\n",
              "       15660.5465159 , 15661.19615889, 15661.83539387, 15662.46377026,\n",
              "       15663.08086284, 15663.68627191, 15664.27962338, 15664.86056872,\n",
              "       15665.42878502])"
            ]
          },
          "metadata": {},
          "execution_count": 37
        }
      ]
    },
    {
      "cell_type": "code",
      "source": [
        "plt.scatter(x,y,color=\"red\")\n",
        "plt.plot(x,y_pred,color=\"blue\")"
      ],
      "metadata": {
        "colab": {
          "base_uri": "https://localhost:8080/",
          "height": 283
        },
        "id": "l451RXYeEda2",
        "outputId": "4f78d09b-e0fb-49c9-a4f2-9315303d2997"
      },
      "execution_count": 38,
      "outputs": [
        {
          "output_type": "execute_result",
          "data": {
            "text/plain": [
              "[<matplotlib.lines.Line2D at 0x7f5063a8a910>]"
            ]
          },
          "metadata": {},
          "execution_count": 38
        },
        {
          "output_type": "display_data",
          "data": {
            "text/plain": [
              "<Figure size 432x288 with 1 Axes>"
            ],
            "image/png": "[encoded data removed]"
          },
          "metadata": {
            "needs_background": "light"
          }
        }
      ]
    },
    {
      "cell_type": "code",
      "source": [
        "regressor=SVR(kernel=\"rbf\")\n",
        "regressor.fit(x,y)\n",
        "y_pred=regressor.predict(x)\n",
        "plt.scatter(x,y,color=\"red\")\n",
        "plt.plot(x,regressor.predict(x),color=\"blue\")\n",
        "plt.xlabel(\"days\")\n",
        "plt.ylabel(\"sale\")\n",
        "plt.show()"
      ],
      "metadata": {
        "colab": {
          "base_uri": "https://localhost:8080/",
          "height": 335
        },
        "id": "5ss5jnlIFISF",
        "outputId": "a2ab8dc0-4435-4b4f-cc28-3104a79a2c52"
      },
      "execution_count": 39,
      "outputs": [
        {
          "output_type": "stream",
          "name": "stderr",
          "text": [
            "/usr/local/lib/python3.7/dist-packages/sklearn/utils/validation.py:993: DataConversionWarning: A column-vector y was passed when a 1d array was expected. Please change the shape of y to (n_samples, ), for example using ravel().\n",
            "  y = column_or_1d(y, warn=True)\n"
          ]
        },
        {
          "output_type": "display_data",
          "data": {
            "text/plain": [
              "<Figure size 432x288 with 1 Axes>"
            ],
            "image/png": "[encoded data removed]"
          },
          "metadata": {
            "needs_background": "light"
          }
        }
      ]
    },
    {
      "cell_type": "code",
      "source": [
        "regressor = SVR(kernel = 'linear')\n",
        "regressor.fit(x, y)\n",
        "y_pred = regressor.predict(x)\n",
        "plt.scatter(x, y, color = 'red')\n",
        "plt.plot(x, regressor.predict(x), color = 'blue')\n",
        "plt.xlabel('Package')\n",
        "plt.ylabel('Sales')\n",
        "plt.show()"
      ],
      "metadata": {
        "colab": {
          "base_uri": "https://localhost:8080/",
          "height": 335
        },
        "id": "VKUG9GBCHIj4",
        "outputId": "adce7a08-81bc-4b38-865b-daf2d4c144a1"
      },
      "execution_count": 41,
      "outputs": [
        {
          "output_type": "stream",
          "name": "stderr",
          "text": [
            "/usr/local/lib/python3.7/dist-packages/sklearn/utils/validation.py:993: DataConversionWarning: A column-vector y was passed when a 1d array was expected. Please change the shape of y to (n_samples, ), for example using ravel().\n",
            "  y = column_or_1d(y, warn=True)\n"
          ]
        },
        {
          "output_type": "display_data",
          "data": {
            "text/plain": [
              "<Figure size 432x288 with 1 Axes>"
            ],
            "image/png": "[encoded data removed]"
          },
          "metadata": {
            "needs_background": "light"
          }
        }
      ]
    },
    {
      "cell_type": "code",
      "source": [
        "regressor = SVR(kernel = 'poly')\n",
        "regressor.fit(x, y)\n",
        "y_pred = regressor.predict(x)\n",
        "plt.scatter(x, y, color = 'red')\n",
        "plt.plot(x, regressor.predict(x), color = 'blue')\n",
        "plt.xlabel('Package')\n",
        "plt.ylabel('Sales')\n",
        "plt.show()"
      ],
      "metadata": {
        "colab": {
          "base_uri": "https://localhost:8080/",
          "height": 335
        },
        "id": "NIDGhLYAHbuG",
        "outputId": "6f63c1f7-60b3-461a-ecff-3b20fd868081"
      },
      "execution_count": 42,
      "outputs": [
        {
          "output_type": "stream",
          "name": "stderr",
          "text": [
            "/usr/local/lib/python3.7/dist-packages/sklearn/utils/validation.py:993: DataConversionWarning: A column-vector y was passed when a 1d array was expected. Please change the shape of y to (n_samples, ), for example using ravel().\n",
            "  y = column_or_1d(y, warn=True)\n"
          ]
        },
        {
          "output_type": "display_data",
          "data": {
            "text/plain": [
              "<Figure size 432x288 with 1 Axes>"
            ],
            "image/png": "[encoded data removed]"
          },
          "metadata": {
            "needs_background": "light"
          }
        }
      ]
    },
    {
      "cell_type": "code",
      "source": [
        "regressor= SVR(kernel=\"rbf\",C=1.0, epsilon=0.2)\n",
        "regressor.fit(x, y)\n",
        "y_pred = regressor.predict(x)\n",
        "plt.scatter(x, y, color = 'red')\n",
        "plt.plot(x, regressor.predict(x), color = 'blue')\n",
        "plt.xlabel('Package')\n",
        "plt.ylabel('Sales')\n",
        "plt.show()"
      ],
      "metadata": {
        "colab": {
          "base_uri": "https://localhost:8080/",
          "height": 335
        },
        "id": "DBy-SeubHktX",
        "outputId": "f76a73ce-cc31-494a-ad90-b4e5275a1d79"
      },
      "execution_count": 43,
      "outputs": [
        {
          "output_type": "stream",
          "name": "stderr",
          "text": [
            "/usr/local/lib/python3.7/dist-packages/sklearn/utils/validation.py:993: DataConversionWarning: A column-vector y was passed when a 1d array was expected. Please change the shape of y to (n_samples, ), for example using ravel().\n",
            "  y = column_or_1d(y, warn=True)\n"
          ]
        },
        {
          "output_type": "display_data",
          "data": {
            "text/plain": [
              "<Figure size 432x288 with 1 Axes>"
            ],
            "image/png": "[encoded data removed]"
          },
          "metadata": {
            "needs_background": "light"
          }
        }
      ]
    },
    {
      "cell_type": "code",
      "source": [
        "regressor= SVR(kernel=\"rbf\",C=2, epsilon=0.2)\n",
        "regressor.fit(x, y)\n",
        "y_pred = regressor.predict(x)\n",
        "plt.scatter(x, y, color = 'red')\n",
        "plt.plot(x, regressor.predict(x), color = 'blue')\n",
        "plt.xlabel('Package')\n",
        "plt.ylabel('Sales')\n",
        "plt.show()"
      ],
      "metadata": {
        "colab": {
          "base_uri": "https://localhost:8080/",
          "height": 335
        },
        "id": "IP5eeBYYIEx8",
        "outputId": "9449f851-7dae-4949-d03b-3aa2936dc72a"
      },
      "execution_count": 44,
      "outputs": [
        {
          "output_type": "stream",
          "name": "stderr",
          "text": [
            "/usr/local/lib/python3.7/dist-packages/sklearn/utils/validation.py:993: DataConversionWarning: A column-vector y was passed when a 1d array was expected. Please change the shape of y to (n_samples, ), for example using ravel().\n",
            "  y = column_or_1d(y, warn=True)\n"
          ]
        },
        {
          "output_type": "display_data",
          "data": {
            "text/plain": [
              "<Figure size 432x288 with 1 Axes>"
            ],
            "image/png": "[encoded data removed]"
          },
          "metadata": {
            "needs_background": "light"
          }
        }
      ]
    },
    {
      "cell_type": "code",
      "source": [
        "regressor= SVR(kernel=\"rbf\",C=.1, epsilon=0.2)\n",
        "regressor.fit(x, y)\n",
        "y_pred = regressor.predict(x)\n",
        "plt.scatter(x, y, color = 'red')\n",
        "plt.plot(x, regressor.predict(x), color = 'blue')\n",
        "plt.xlabel('Package')\n",
        "plt.ylabel('Sales')\n",
        "plt.show()"
      ],
      "metadata": {
        "colab": {
          "base_uri": "https://localhost:8080/",
          "height": 335
        },
        "id": "zpQPkA4LIqze",
        "outputId": "0f1d8566-f0c5-4b56-b908-12f23778b4ea"
      },
      "execution_count": 45,
      "outputs": [
        {
          "output_type": "stream",
          "name": "stderr",
          "text": [
            "/usr/local/lib/python3.7/dist-packages/sklearn/utils/validation.py:993: DataConversionWarning: A column-vector y was passed when a 1d array was expected. Please change the shape of y to (n_samples, ), for example using ravel().\n",
            "  y = column_or_1d(y, warn=True)\n"
          ]
        },
        {
          "output_type": "display_data",
          "data": {
            "text/plain": [
              "<Figure size 432x288 with 1 Axes>"
            ],
            "image/png": "[encoded data removed]"
          },
          "metadata": {
            "needs_background": "light"
          }
        }
      ]
    },
    {
      "cell_type": "code",
      "source": [
        "regressor = SVR(kernel = 'rbf', degree=3, gamma='scale', coef0=0.0, tol=0.001, C=1.0, epsilon=0.1, shrinking=True, cache_size=200, verbose=False, max_iter=- 1)\n",
        "regressor.fit(x, y)\n",
        "y_pred = regressor.predict(x)\n",
        "plt.scatter(x, y, color = 'red')\n",
        "plt.plot(x, regressor.predict(x), color = 'blue')\n",
        "plt.xlabel('Package')\n",
        "plt.ylabel('Sales')\n",
        "plt.show()"
      ],
      "metadata": {
        "colab": {
          "base_uri": "https://localhost:8080/",
          "height": 335
        },
        "id": "WLlMkGgLIz0Z",
        "outputId": "1d4b888e-f61a-4758-aa4c-9942d85b7713"
      },
      "execution_count": 46,
      "outputs": [
        {
          "output_type": "stream",
          "name": "stderr",
          "text": [
            "/usr/local/lib/python3.7/dist-packages/sklearn/utils/validation.py:993: DataConversionWarning: A column-vector y was passed when a 1d array was expected. Please change the shape of y to (n_samples, ), for example using ravel().\n",
            "  y = column_or_1d(y, warn=True)\n"
          ]
        },
        {
          "output_type": "display_data",
          "data": {
            "text/plain": [
              "<Figure size 432x288 with 1 Axes>"
            ],
            "image/png": "[encoded data removed]"
          },
          "metadata": {
            "needs_background": "light"
          }
        }
      ]
    },
    {
      "cell_type": "code",
      "source": [
        "regressor = SVR(kernel = 'poly', degree=3, gamma='scale', coef0=0.0, tol=0.001, C=1.0, epsilon=0.1, shrinking=True, cache_size=200, verbose=False, max_iter=- 1)\n",
        "regressor.fit(x, y)\n",
        "y_pred = regressor.predict(x)\n",
        "plt.scatter(x, y, color = 'red')\n",
        "plt.plot(x, regressor.predict(x), color = 'blue')\n",
        "plt.xlabel('Package')\n",
        "plt.ylabel('Sales')\n",
        "plt.show()"
      ],
      "metadata": {
        "colab": {
          "base_uri": "https://localhost:8080/",
          "height": 335
        },
        "id": "Rf7FnQB1I-zd",
        "outputId": "a4e62bbc-85f6-474a-ac48-0e29a256980f"
      },
      "execution_count": 47,
      "outputs": [
        {
          "output_type": "stream",
          "name": "stderr",
          "text": [
            "/usr/local/lib/python3.7/dist-packages/sklearn/utils/validation.py:993: DataConversionWarning: A column-vector y was passed when a 1d array was expected. Please change the shape of y to (n_samples, ), for example using ravel().\n",
            "  y = column_or_1d(y, warn=True)\n"
          ]
        },
        {
          "output_type": "display_data",
          "data": {
            "text/plain": [
              "<Figure size 432x288 with 1 Axes>"
            ],
            "image/png": "[encoded data removed]"
          },
          "metadata": {
            "needs_background": "light"
          }
        }
      ]
    },
    {
      "cell_type": "code",
      "source": [
        ""
      ],
      "metadata": {
        "id": "qV7O6YmVJVe0"
      },
      "execution_count": null,
      "outputs": []
    }
  ]
}