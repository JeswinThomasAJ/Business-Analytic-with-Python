{
  "nbformat": 4,
  "nbformat_minor": 0,
  "metadata": {
    "colab": {
      "provenance": []
    },
    "kernelspec": {
      "name": "python3",
      "display_name": "Python 3"
    },
    "language_info": {
      "name": "python"
    }
  },
  "cells": [
    {
      "cell_type": "code",
      "execution_count": null,
      "metadata": {
        "colab": {
          "base_uri": "https://localhost:8080/",
          "height": 321
        },
        "id": "fr-UIO-dqIHb",
        "outputId": "a96b269f-78c6-4df8-aca7-58b83e57e050"
      },
      "outputs": [
        {
          "output_type": "error",
          "ename": "TypeError",
          "evalue": "'str' object is not callable",
          "traceback": [
            "\u001b[0;31m---------------------------------------------------------------------------\u001b[0m",
            "\u001b[0;31mTypeError\u001b[0m                                 Traceback (most recent call last)",
            "\u001b[0;32m<ipython-input-37-dc2a55b66f3c>\u001b[0m in \u001b[0;36m<cell line: 0>\u001b[0;34m()\u001b[0m\n\u001b[1;32m     14\u001b[0m \u001b[0;34m\u001b[0m\u001b[0m\n\u001b[1;32m     15\u001b[0m \u001b[0;32mif\u001b[0m \u001b[0m__name__\u001b[0m\u001b[0;34m==\u001b[0m\u001b[0;34m\"__main__\"\u001b[0m\u001b[0;34m:\u001b[0m\u001b[0;34m\u001b[0m\u001b[0;34m\u001b[0m\u001b[0m\n\u001b[0;32m---> 16\u001b[0;31m   \u001b[0mmain\u001b[0m\u001b[0;34m(\u001b[0m\u001b[0;34m)\u001b[0m\u001b[0;34m\u001b[0m\u001b[0;34m\u001b[0m\u001b[0m\n\u001b[0m",
            "\u001b[0;32m<ipython-input-37-dc2a55b66f3c>\u001b[0m in \u001b[0;36mmain\u001b[0;34m()\u001b[0m\n\u001b[1;32m     10\u001b[0m     \u001b[0mprint\u001b[0m\u001b[0;34m(\u001b[0m\u001b[0mkey\u001b[0m\u001b[0;34m,\u001b[0m\u001b[0mvalue\u001b[0m\u001b[0;34m[\u001b[0m\u001b[0;34m\"Name\"\u001b[0m\u001b[0;34m]\u001b[0m\u001b[0;34m,\u001b[0m\u001b[0mvalue\u001b[0m\u001b[0;34m[\u001b[0m\u001b[0;34m\"Price\"\u001b[0m\u001b[0;34m]\u001b[0m\u001b[0;34m)\u001b[0m\u001b[0;34m\u001b[0m\u001b[0;34m\u001b[0m\u001b[0m\n\u001b[1;32m     11\u001b[0m \u001b[0;32mdef\u001b[0m \u001b[0mmain\u001b[0m\u001b[0;34m(\u001b[0m\u001b[0;34m)\u001b[0m\u001b[0;34m:\u001b[0m\u001b[0;34m\u001b[0m\u001b[0;34m\u001b[0m\u001b[0m\n\u001b[0;32m---> 12\u001b[0;31m   \u001b[0mdisplay_menu\u001b[0m\u001b[0;34m(\u001b[0m\u001b[0;34m)\u001b[0m\u001b[0;34m\u001b[0m\u001b[0;34m\u001b[0m\u001b[0m\n\u001b[0m\u001b[1;32m     13\u001b[0m \u001b[0;34m\u001b[0m\u001b[0m\n\u001b[1;32m     14\u001b[0m \u001b[0;34m\u001b[0m\u001b[0m\n",
            "\u001b[0;32m<ipython-input-37-dc2a55b66f3c>\u001b[0m in \u001b[0;36mdisplay_menu\u001b[0;34m()\u001b[0m\n\u001b[1;32m      6\u001b[0m }\n\u001b[1;32m      7\u001b[0m \u001b[0;32mdef\u001b[0m \u001b[0mdisplay_menu\u001b[0m\u001b[0;34m(\u001b[0m\u001b[0;34m)\u001b[0m\u001b[0;34m:\u001b[0m\u001b[0;34m\u001b[0m\u001b[0;34m\u001b[0m\u001b[0m\n\u001b[0;32m----> 8\u001b[0;31m   \u001b[0mprint\u001b[0m\u001b[0;34m(\u001b[0m\u001b[0;34m{\u001b[0m\u001b[0;34m\"---- Food Menu ----\"\u001b[0m\u001b[0;34m}\u001b[0m\u001b[0;34m)\u001b[0m\u001b[0;34m\u001b[0m\u001b[0;34m\u001b[0m\u001b[0m\n\u001b[0m\u001b[1;32m      9\u001b[0m   \u001b[0;32mfor\u001b[0m \u001b[0mkey\u001b[0m\u001b[0;34m,\u001b[0m\u001b[0mvalue\u001b[0m \u001b[0;32min\u001b[0m \u001b[0mMenu\u001b[0m\u001b[0;34m.\u001b[0m\u001b[0mitems\u001b[0m\u001b[0;34m(\u001b[0m\u001b[0;34m)\u001b[0m\u001b[0;34m:\u001b[0m\u001b[0;34m\u001b[0m\u001b[0;34m\u001b[0m\u001b[0m\n\u001b[1;32m     10\u001b[0m     \u001b[0mprint\u001b[0m\u001b[0;34m(\u001b[0m\u001b[0mkey\u001b[0m\u001b[0;34m,\u001b[0m\u001b[0mvalue\u001b[0m\u001b[0;34m[\u001b[0m\u001b[0;34m\"Name\"\u001b[0m\u001b[0;34m]\u001b[0m\u001b[0;34m,\u001b[0m\u001b[0mvalue\u001b[0m\u001b[0;34m[\u001b[0m\u001b[0;34m\"Price\"\u001b[0m\u001b[0;34m]\u001b[0m\u001b[0;34m)\u001b[0m\u001b[0;34m\u001b[0m\u001b[0;34m\u001b[0m\u001b[0m\n",
            "\u001b[0;31mTypeError\u001b[0m: 'str' object is not callable"
          ]
        }
      ],
      "source": [
        "Menu={\n",
        "    1:{\"Name\":\"Welcome Drink Live\",\"Price\":25},\n",
        "    2:{\"Name\":\"Dish\",\"Price\":175},\n",
        "    3:{\"Name\":\"Chicken Biriyani\",\"Price\":150},\n",
        "    4:{\"Name\":\"Fish molly\",\"Price\":175}\n",
        "}\n",
        "def display_menu():\n",
        "  print({\"---- Food Menu ----\"})\n",
        "  for key,value in Menu.items():\n",
        "    print(key,value[\"Name\"],value[\"Price\"])\n",
        "def main():\n",
        "  display_menu()\n",
        "\n",
        "\n",
        "if __name__==\"__main__\":\n",
        "  main()"
      ]
    },
    {
      "source": [
        "Menu={\n",
        "    1:{\"Name\":\"Welcome Drink Live\",\"Price\":25},\n",
        "    2:{\"Name\":\"Dish\",\"Price\":175},\n",
        "    3:{\"Name\":\"Chicken Biriyani\",\"Price\":150},\n",
        "    4:{\"Name\":\"Fish molly\",\"Price\":175}\n",
        "}\n",
        "def display_menu():\n",
        "  # Use the built-in print function instead of the variable you might have accidentally overwritten.\n",
        "  print(\"---- Food Menu ----\")\n",
        "  for key,value in Menu.items():\n",
        "    print(key,value[\"Name\"],value[\"Price\"])\n",
        "def main():\n",
        "  display_menu()\n",
        "\n",
        "\n",
        "if __name__==\"__main__\":\n",
        "  main()"
      ],
      "cell_type": "code",
      "metadata": {
        "id": "z-x9obDL1f-L"
      },
      "execution_count": null,
      "outputs": []
    },
    {
      "source": [
        "import pandas as pd\n",
        "import numpy as np\n",
        "import matplotlib.pyplot as plt\n",
        "import seaborn as sns\n",
        "data={'Welcome Drink':25,'CB':150,'Rice and Curry':175}\n",
        "s=pd.Series(data)\n",
        "# Use the built-in print function instead of the variable you might have accidentally overwritten.\n",
        "__builtins__.print(s)\n",
        "total_sum = s.sum()\n",
        "__builtins__.print(\"Total sum:\", total_sum)"
      ],
      "cell_type": "code",
      "metadata": {
        "colab": {
          "base_uri": "https://localhost:8080/"
        },
        "id": "b4cG_GFU1gev",
        "outputId": "7942209c-8793-44cd-acc1-787673b7a318"
      },
      "execution_count": 66,
      "outputs": [
        {
          "output_type": "stream",
          "name": "stdout",
          "text": [
            "Welcome Drink      25\n",
            "CB                150\n",
            "Rice and Curry    175\n",
            "dtype: int64\n",
            "Total sum: 350\n"
          ]
        }
      ]
    },
    {
      "cell_type": "code",
      "source": [
        "def display_menu(menu):\n",
        "  \"\"\"Displays the menu with item names and prices.\"\"\"\n",
        "  __builtins__.print(\"\\n---- Food Menu ----\")\n",
        "  for item_name, item_data in menu.items():\n",
        "    __builtins__.print(f\"{item_name} - ${item_data['price']:.2f}\")\n",
        "\n",
        "def get_user_selection(menu):\n",
        "  \"\"\"Gets user's selection of items from the menu by name.\"\"\"\n",
        "  selection = []\n",
        "  while True:\n",
        "    item_name = input(\"Enter item name to add (or 'done' to finish): \")\n",
        "    if item_name.lower() == 'done':\n",
        "      break\n",
        "\n",
        "    if item_name in menu:\n",
        "      selection.append(item_name)\n",
        "    else:\n",
        "      __builtins__.print(\"Invalid item name. Please try again.\")\n",
        "  return selection\n",
        "\n",
        "def calculate_total_cost(selection, menu):\n",
        "  \"\"\"Calculates the total cost of the selected items.\"\"\"\n",
        "  total_cost = sum(menu[item_name]['price'] for item_name in selection)\n",
        "  return total_cost\n",
        "\n",
        "def main():\n",
        "  \"\"\"Main function to run the ordering process.\"\"\"\n",
        "  menu = {\n",
        "    'welcomedrink': {'name': 'Welcome Drink', 'price': 25.00},\n",
        "    'riceandcurry': {'name': 'Rice and Curry', 'price': 175.00},\n",
        "    'fishmolly': {'name': 'Fishmolly', 'price': 175.00},\n",
        "    'muttonbiriyani': {'name': 'Mutton Biriyani', 'price': 350.00},\n",
        "    'chickenbiriyani': {'name': 'Chicken Biriyani', 'price': 150.00},\n",
        "    'vegbiriyani': {'name': 'Veg Biriyani', 'price': 100},\n",
        "    'porkmasala': {'name': 'Pork Masala', 'price': 40},\n",
        "    'beefcutlet': {'name': 'Beef cutlet', 'price': 25},\n",
        "    'duckroast':{'name': 'Duck Roast', 'price': 150},\n",
        "    'fishleaf':{'name': 'Fish Leaf', 'price': 125}\n",
        "}\n",
        "\n",
        "  display_menu(menu)\n",
        "  selection = get_user_selection(menu)\n",
        "  total_cost = calculate_total_cost(selection, menu)\n",
        "\n",
        "  __builtins__.print(\"\\nVADAYAR CATERING\\nJOJO VADAYAR\\nTHAMMNAM\\nPHONE:8589014510,9846545642\\n________________________\\nYOUR SELECTED MENU \")\n",
        "  for item_name in selection:\n",
        "    __builtins__.print(f\"- {item_name}\")\n",
        "  __builtins__.print(f\"Per Person: ${total_cost:.2f}\")\n",
        "\n",
        "if __name__ == \"__main__\":\n",
        "  main()"
      ],
      "metadata": {
        "colab": {
          "base_uri": "https://localhost:8080/"
        },
        "id": "mZtuukAS42hd",
        "outputId": "bd433466-6041-4ec5-a7c0-66e5ef7da8a3"
      },
      "execution_count": 95,
      "outputs": [
        {
          "output_type": "stream",
          "name": "stdout",
          "text": [
            "\n",
            "---- Food Menu ----\n",
            "welcomedrink - $25.00\n",
            "riceandcurry - $175.00\n",
            "fishmolly - $175.00\n",
            "muttonbiriyani - $350.00\n",
            "chickenbiriyani - $150.00\n",
            "vegbiriyani - $100.00\n",
            "porkmasala - $40.00\n",
            "beefcutlet - $25.00\n",
            "duckroast - $150.00\n",
            "fishleaf - $125.00\n",
            "Enter item name to add (or 'done' to finish): welcomedrink\n",
            "Enter item name to add (or 'done' to finish): muttonbiriyani\n",
            "Enter item name to add (or 'done' to finish): fishleaf\n",
            "Enter item name to add (or 'done' to finish): done\n",
            "\n",
            "VADAYAR CATERING\n",
            "JOJO VADAYAR\n",
            "THAMMNAM\n",
            "PHONE:8589014510,9846545642\n",
            "________________________\n",
            "YOUR SELECTED MENU \n",
            "- welcomedrink\n",
            "- muttonbiriyani\n",
            "- fishleaf\n",
            "Per Person: $500.00\n"
          ]
        }
      ]
    }
  ]
}